{
 "cells": [
  {
   "cell_type": "markdown",
   "id": "0f6aad20-3bde-4174-93de-71cfe684c32f",
   "metadata": {},
   "source": [
    "'Question - 1\n",
    " Ans - '"
   ]
  },
  {
   "cell_type": "code",
   "execution_count": 1,
   "id": "cec77066-4f41-47be-ab4c-b68a40f55d31",
   "metadata": {},
   "outputs": [
    {
     "data": {
      "text/plain": [
       "' class- is a blueprint or a template which defines the structure and behaviour of objects of class have\\nit is used as a blueprint for creating multiple instances for that class\\n\\n\\n\\nObject - it is an instance of class which represents the specific entity based on that class '"
      ]
     },
     "execution_count": 1,
     "metadata": {},
     "output_type": "execute_result"
    }
   ],
   "source": [
    "\"\"\" class- is a blueprint or a template which defines the structure and behaviour of objects of class have\n",
    "it is used as a blueprint for creating multiple instances for that class\n",
    "\n",
    "\n",
    "\n",
    "Object - it is an instance of class which represents the specific entity based on that class \"\"\""
   ]
  },
  {
   "cell_type": "markdown",
   "id": "369db232-ac5f-4b65-b853-03b969bf906b",
   "metadata": {},
   "source": [
    "                             example"
   ]
  },
  {
   "cell_type": "code",
   "execution_count": 15,
   "id": "06166635-fe29-43f2-b112-6cb636ecb3c3",
   "metadata": {},
   "outputs": [],
   "source": [
    "class Student:\n",
    "    def __init__(self , name , email):\n",
    "        self.name = name\n",
    "        self.email = email\n",
    "        \n",
    "    def student_details(self):\n",
    "        return self.name , self.email"
   ]
  },
  {
   "cell_type": "code",
   "execution_count": 16,
   "id": "034aec0a-1af4-4e84-b449-f08ac92472f8",
   "metadata": {},
   "outputs": [],
   "source": [
    "obj = Student('ravi' , 'ravi@gmail.com')"
   ]
  },
  {
   "cell_type": "code",
   "execution_count": 17,
   "id": "538f827b-c567-4e44-8f9e-f5ac9099b2f7",
   "metadata": {},
   "outputs": [
    {
     "data": {
      "text/plain": [
       "('ravi', 'ravi@gmail.com')"
      ]
     },
     "execution_count": 17,
     "metadata": {},
     "output_type": "execute_result"
    }
   ],
   "source": [
    "obj.student_details()"
   ]
  },
  {
   "cell_type": "code",
   "execution_count": 18,
   "id": "87bc2238-06b0-40ea-bb1f-d5f724eb5305",
   "metadata": {},
   "outputs": [],
   "source": [
    "# here Student is class and student_details is instance of the class"
   ]
  },
  {
   "cell_type": "code",
   "execution_count": null,
   "id": "1540ca0d-0bdd-475e-b16c-ef3e0e425019",
   "metadata": {},
   "outputs": [],
   "source": []
  },
  {
   "cell_type": "code",
   "execution_count": null,
   "id": "af081e99-5b34-4bac-a716-3acd7357deed",
   "metadata": {},
   "outputs": [],
   "source": []
  },
  {
   "cell_type": "markdown",
   "id": "bf0c9850-2dee-4c30-9307-28ddd02d2c09",
   "metadata": {},
   "source": [
    "Question - 2\n",
    "ans - "
   ]
  },
  {
   "cell_type": "code",
   "execution_count": null,
   "id": "160de806-27b5-4658-98cf-c2a16421f733",
   "metadata": {},
   "outputs": [],
   "source": [
    "Four pillars of Oops - \n",
    "\n",
    "1 - Encapsulation\n",
    "2 - Polymerphism\n",
    "3 - Inheritance \n",
    "4 - Abstraction"
   ]
  },
  {
   "cell_type": "code",
   "execution_count": null,
   "id": "c6275ad5-e4c9-4613-ae6a-84a02c65daca",
   "metadata": {},
   "outputs": [],
   "source": []
  },
  {
   "cell_type": "code",
   "execution_count": null,
   "id": "6eef84f6-9c9a-477c-b793-da0ce082b7f8",
   "metadata": {},
   "outputs": [],
   "source": []
  },
  {
   "cell_type": "markdown",
   "id": "6a93ce10-295e-4124-82f9-53aaaab9675e",
   "metadata": {},
   "source": [
    "Question - 3\n",
    "ans"
   ]
  },
  {
   "cell_type": "markdown",
   "id": "e8b6e56e-f644-4445-8d3a-3e1afcf37134",
   "metadata": {},
   "source": [
    "__init__ function is a constructor or special method in python, it is used basically for passing the values into class or to initialize the attributes of object"
   ]
  },
  {
   "cell_type": "code",
   "execution_count": 21,
   "id": "dfc353e5-3aa1-4025-947b-4963a59b1a21",
   "metadata": {},
   "outputs": [],
   "source": [
    "class account:\n",
    "    def __init__(self , name , balance , account_num):\n",
    "        self.name = name\n",
    "        self.balance = balance\n",
    "        self.account_num = account_num\n",
    "        \n",
    "        \n",
    "    def details(self):\n",
    "        return self.name , self.balance , self.account_num"
   ]
  },
  {
   "cell_type": "code",
   "execution_count": 22,
   "id": "906c7941-7e2e-49b4-b2f3-c0ffe98cd72c",
   "metadata": {},
   "outputs": [],
   "source": [
    "obj = account('ravi' , 5000 , 2710003456749)"
   ]
  },
  {
   "cell_type": "code",
   "execution_count": 23,
   "id": "0e886bec-ec87-4ea7-88cb-96335001e234",
   "metadata": {},
   "outputs": [
    {
     "data": {
      "text/plain": [
       "('ravi', 5000, 2710003456749)"
      ]
     },
     "execution_count": 23,
     "metadata": {},
     "output_type": "execute_result"
    }
   ],
   "source": [
    "obj.details()"
   ]
  },
  {
   "cell_type": "code",
   "execution_count": 24,
   "id": "34da5d75-a0f2-489b-91c0-815ccc9b9d1a",
   "metadata": {},
   "outputs": [
    {
     "data": {
      "text/plain": [
       "5000"
      ]
     },
     "execution_count": 24,
     "metadata": {},
     "output_type": "execute_result"
    }
   ],
   "source": [
    "obj.balance"
   ]
  },
  {
   "cell_type": "code",
   "execution_count": null,
   "id": "7c846258-48f0-46b1-b3a8-34018020f7b5",
   "metadata": {},
   "outputs": [],
   "source": []
  },
  {
   "cell_type": "code",
   "execution_count": null,
   "id": "dd4db801-3466-409c-8e44-ff819a55ba51",
   "metadata": {},
   "outputs": [],
   "source": []
  },
  {
   "cell_type": "code",
   "execution_count": null,
   "id": "7bfb7a57-a308-464c-8e40-950b80eeea64",
   "metadata": {},
   "outputs": [],
   "source": []
  },
  {
   "cell_type": "markdown",
   "id": "b641f6f5-6c81-4385-bd3a-f247cb5a2ac5",
   "metadata": {},
   "source": [
    "Question -4\n",
    "Ans"
   ]
  },
  {
   "cell_type": "code",
   "execution_count": null,
   "id": "60c5c732-497f-4265-a432-b328a5843d1f",
   "metadata": {},
   "outputs": [],
   "source": [
    "# self in oops is used to access the attributes of instance or to ivoke the methods within the same class\n",
    "# it refers to instances to the class"
   ]
  },
  {
   "cell_type": "markdown",
   "id": "7c3afa6a-d7ff-4f7c-a941-fca64d7ccfcc",
   "metadata": {},
   "source": [
    "Inheritance allows to create a child class based on parent class which inherit the \n",
    "attributes of parent class\n",
    "\n",
    "inheritance promotes code reuseability , code organization "
   ]
  },
  {
   "cell_type": "code",
   "execution_count": 25,
   "id": "57018204-cd86-4fc4-913e-c06a959c4735",
   "metadata": {},
   "outputs": [],
   "source": [
    "# Single Inheritance \n",
    "\n",
    "class vehicle:\n",
    "    def method(self):\n",
    "        return 'it is a vehicle'"
   ]
  },
  {
   "cell_type": "code",
   "execution_count": 26,
   "id": "4d64ae2f-497e-4ab0-972e-793d28a72e46",
   "metadata": {},
   "outputs": [],
   "source": [
    "class car(vehicle):\n",
    "    pass"
   ]
  },
  {
   "cell_type": "code",
   "execution_count": 27,
   "id": "dcde40d1-3946-4114-a339-84712442fcd5",
   "metadata": {},
   "outputs": [],
   "source": [
    "obj = car()"
   ]
  },
  {
   "cell_type": "code",
   "execution_count": 28,
   "id": "da810d74-7e50-4358-b6e7-83ddc6f32fed",
   "metadata": {},
   "outputs": [
    {
     "data": {
      "text/plain": [
       "'it is a vehicle'"
      ]
     },
     "execution_count": 28,
     "metadata": {},
     "output_type": "execute_result"
    }
   ],
   "source": [
    "obj.method()"
   ]
  },
  {
   "cell_type": "code",
   "execution_count": null,
   "id": "a67d5a91-9cef-4d63-8d6a-1b09d35eec18",
   "metadata": {},
   "outputs": [],
   "source": []
  },
  {
   "cell_type": "code",
   "execution_count": 29,
   "id": "748cbfad-5245-4b23-b01f-896d7cf6799e",
   "metadata": {},
   "outputs": [],
   "source": [
    "# MUltilevel Inheritance\n",
    "\n",
    "class vehicle:\n",
    "    def meth(self):\n",
    "        return 'it is a vehicle'"
   ]
  },
  {
   "cell_type": "code",
   "execution_count": 30,
   "id": "0734997a-1e39-4b10-bb31-aa9299dc5c2a",
   "metadata": {},
   "outputs": [],
   "source": [
    "class car(vehicle):\n",
    "    def meth1(self):\n",
    "        return 'it is a car'"
   ]
  },
  {
   "cell_type": "code",
   "execution_count": 31,
   "id": "446858f8-a293-4ef0-9024-2ee21321bfbd",
   "metadata": {},
   "outputs": [],
   "source": [
    "class bike(car):\n",
    "    def meth2(self):\n",
    "        pass"
   ]
  },
  {
   "cell_type": "code",
   "execution_count": 32,
   "id": "2bf56084-cd41-42d5-bde3-a6dc7c79723d",
   "metadata": {},
   "outputs": [],
   "source": [
    "obj1 = bike()"
   ]
  },
  {
   "cell_type": "code",
   "execution_count": 34,
   "id": "102fe6a6-c93e-4a70-89a0-e879ea1fa082",
   "metadata": {},
   "outputs": [
    {
     "data": {
      "text/plain": [
       "'it is a car'"
      ]
     },
     "execution_count": 34,
     "metadata": {},
     "output_type": "execute_result"
    }
   ],
   "source": [
    "obj1.meth1()"
   ]
  },
  {
   "cell_type": "code",
   "execution_count": 37,
   "id": "5ddb8652-da28-451c-bd4e-3d76fd19603a",
   "metadata": {},
   "outputs": [
    {
     "data": {
      "text/plain": [
       "'it is a vehicle'"
      ]
     },
     "execution_count": 37,
     "metadata": {},
     "output_type": "execute_result"
    }
   ],
   "source": [
    "obj1.meth()"
   ]
  },
  {
   "cell_type": "code",
   "execution_count": 39,
   "id": "c042192e-d0ce-4366-b7ec-bf171a7f98ce",
   "metadata": {},
   "outputs": [
    {
     "data": {
      "text/plain": [
       "' in multilevel inheritance , class bike is derived by inheriting the attributes\\\\ \\nof two parent classes i.e; first is class vehicle and second is class car'"
      ]
     },
     "execution_count": 39,
     "metadata": {},
     "output_type": "execute_result"
    }
   ],
   "source": [
    "\"\"\" in multilevel inheritance , class bike is derived by inheriting the attributes \n",
    "of two parent classes i.e; first is class vehicle and second is class car\"\"\""
   ]
  },
  {
   "cell_type": "code",
   "execution_count": null,
   "id": "60821701-7540-48b2-a830-47444c3361e5",
   "metadata": {},
   "outputs": [],
   "source": []
  },
  {
   "cell_type": "code",
   "execution_count": 41,
   "id": "8c6e52da-5486-42da-99b4-6f2324556b9d",
   "metadata": {},
   "outputs": [],
   "source": [
    "# Multiple Inheritance\n",
    "\n",
    "\n",
    "class shar1:\n",
    "    def meth1(self):\n",
    "        return 'this is form meth 1'\n",
    "        \n",
    "class shar2:\n",
    "    def meth2(self):\n",
    "        return'this is from meth2'\n",
    "        \n",
    "class shar3:\n",
    "    def meth3(self):\n",
    "        return 'this is from meth3'\n",
    "        \n",
    "        "
   ]
  },
  {
   "cell_type": "code",
   "execution_count": 42,
   "id": "a3379209-5d66-4a58-9439-f57a582b8d5c",
   "metadata": {},
   "outputs": [],
   "source": [
    "class shar4(shar1 , shar2 , shar3):\n",
    "    pass"
   ]
  },
  {
   "cell_type": "code",
   "execution_count": 43,
   "id": "b7641eed-4a8e-4f65-ad9c-a0f20cdef2c2",
   "metadata": {},
   "outputs": [],
   "source": [
    "obj = shar4()"
   ]
  },
  {
   "cell_type": "code",
   "execution_count": 44,
   "id": "63197399-f4e9-4a81-b1b2-67e1e9ebe38f",
   "metadata": {},
   "outputs": [
    {
     "data": {
      "text/plain": [
       "'this is from meth2'"
      ]
     },
     "execution_count": 44,
     "metadata": {},
     "output_type": "execute_result"
    }
   ],
   "source": [
    "obj.meth2()"
   ]
  },
  {
   "cell_type": "code",
   "execution_count": 45,
   "id": "4a1fc184-e7d5-407b-b7b4-e2935b7b147b",
   "metadata": {},
   "outputs": [
    {
     "data": {
      "text/plain": [
       "'this is from meth3'"
      ]
     },
     "execution_count": 45,
     "metadata": {},
     "output_type": "execute_result"
    }
   ],
   "source": [
    "obj.meth3()"
   ]
  },
  {
   "cell_type": "code",
   "execution_count": 46,
   "id": "7c6b755e-68ae-4fd8-9f10-52c83e8dd56e",
   "metadata": {},
   "outputs": [
    {
     "data": {
      "text/plain": [
       "'this is form meth 1'"
      ]
     },
     "execution_count": 46,
     "metadata": {},
     "output_type": "execute_result"
    }
   ],
   "source": [
    "obj.meth1()"
   ]
  },
  {
   "cell_type": "code",
   "execution_count": 47,
   "id": "b9a80201-245d-4210-a0fe-87ed8fe6c500",
   "metadata": {},
   "outputs": [
    {
     "data": {
      "text/plain": [
       "' in multiple inheritance a child class can be derived by inhriting two or more \\nparent classes together'"
      ]
     },
     "execution_count": 47,
     "metadata": {},
     "output_type": "execute_result"
    }
   ],
   "source": [
    "\"\"\" in multiple inheritance a child class can be derived by inhriting two or more \n",
    "parent classes together\"\"\""
   ]
  },
  {
   "cell_type": "code",
   "execution_count": null,
   "id": "39bcb8e9-be13-4cff-8044-7f9821f2b997",
   "metadata": {},
   "outputs": [],
   "source": []
  }
 ],
 "metadata": {
  "kernelspec": {
   "display_name": "Python 3 (ipykernel)",
   "language": "python",
   "name": "python3"
  },
  "language_info": {
   "codemirror_mode": {
    "name": "ipython",
    "version": 3
   },
   "file_extension": ".py",
   "mimetype": "text/x-python",
   "name": "python",
   "nbconvert_exporter": "python",
   "pygments_lexer": "ipython3",
   "version": "3.10.8"
  }
 },
 "nbformat": 4,
 "nbformat_minor": 5
}
